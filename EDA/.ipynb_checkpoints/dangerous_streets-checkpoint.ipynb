{
 "cells": [
  {
   "cell_type": "code",
   "execution_count": 2,
   "id": "b8b7ef0e",
   "metadata": {},
   "outputs": [],
   "source": [
    "# Imports \n",
    "import pandas as pd \n",
    "import numpy as np \n",
    "import matplotlib.pyplot as plt \n",
    "import seaborn as sns\n",
    "\n",
    "# Load Data\n",
    "run1 = pd.read_csv('../Data/ClusterData/final_run_1.csv')\n",
    "original = pd.read_csv('../Data/Complete_trips_data_2023_d.csv')"
   ]
  },
  {
   "cell_type": "code",
   "execution_count": 3,
   "id": "0c602eab",
   "metadata": {},
   "outputs": [
    {
     "data": {
      "text/plain": [
       "Index(['Unnamed: 0', 'ride_id', 'rideable_type', 'started_at', 'ended_at',\n",
       "       'start_station_name', 'start_station_id', 'end_station_name',\n",
       "       'end_station_id', 'start_lat', 'start_lng', 'end_lat', 'end_lng',\n",
       "       'member_casual', 'season', 'trip_distance', 'date', 'AvgTemp',\n",
       "       'start_station_danger_score_.5m', 'start_station_danger_score_1m',\n",
       "       'start_station_total_docks', 'start_station_district',\n",
       "       'end_station_danger_score_.5m', 'end_station_danger_score_1m',\n",
       "       'end_station_total_docks', 'end_station_district'],\n",
       "      dtype='object')"
      ]
     },
     "execution_count": 3,
     "metadata": {},
     "output_type": "execute_result"
    }
   ],
   "source": [
    "original.columns"
   ]
  },
  {
   "cell_type": "code",
   "execution_count": 4,
   "id": "89a3a059",
   "metadata": {},
   "outputs": [],
   "source": [
    "df = original[['start_station_name', 'start_lat', 'start_lng']].copy()"
   ]
  },
  {
   "cell_type": "code",
   "execution_count": null,
   "id": "ccc724ad",
   "metadata": {},
   "outputs": [],
   "source": [
    "# Merge address to first run dataframe\n",
    "merged_run1 = pd.merge(run1, df,\n",
    "                     on=['start_lat', 'start_lng'], \n",
    "                     how='left')\n",
    "merged_run1"
   ]
  },
  {
   "cell_type": "code",
   "execution_count": null,
   "id": "05e3c66a",
   "metadata": {},
   "outputs": [],
   "source": []
  }
 ],
 "metadata": {
  "kernelspec": {
   "display_name": "Python 3 (ipykernel)",
   "language": "python",
   "name": "python3"
  },
  "language_info": {
   "codemirror_mode": {
    "name": "ipython",
    "version": 3
   },
   "file_extension": ".py",
   "mimetype": "text/x-python",
   "name": "python",
   "nbconvert_exporter": "python",
   "pygments_lexer": "ipython3",
   "version": "3.10.9"
  }
 },
 "nbformat": 4,
 "nbformat_minor": 5
}
